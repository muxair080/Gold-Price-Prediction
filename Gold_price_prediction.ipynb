{
 "cells": [
  {
   "cell_type": "code",
   "execution_count": 1,
   "id": "80823fc3",
   "metadata": {},
   "outputs": [],
   "source": [
    "import numpy as np\n",
    "import pandas as pd\n",
    "import seaborn as sns\n",
    "import matplotlib.pyplot as plt\n",
    "from sklearn.model_selection import train_test_split\n",
    "from sklearn.ensemble import RandomForestRegressor\n",
    "from sklearn import metrics\n"
   ]
  },
  {
   "cell_type": "markdown",
   "id": "9c5d958f",
   "metadata": {},
   "source": [
    "# Upload Dataset"
   ]
  },
  {
   "cell_type": "code",
   "execution_count": 85,
   "id": "9b832d87",
   "metadata": {},
   "outputs": [],
   "source": [
    "df = pd.read_csv('./gld_price_data.csv')"
   ]
  },
  {
   "cell_type": "code",
   "execution_count": 86,
   "id": "1a5e1f9e",
   "metadata": {},
   "outputs": [
    {
     "data": {
      "text/html": [
       "<div>\n",
       "<style scoped>\n",
       "    .dataframe tbody tr th:only-of-type {\n",
       "        vertical-align: middle;\n",
       "    }\n",
       "\n",
       "    .dataframe tbody tr th {\n",
       "        vertical-align: top;\n",
       "    }\n",
       "\n",
       "    .dataframe thead th {\n",
       "        text-align: right;\n",
       "    }\n",
       "</style>\n",
       "<table border=\"1\" class=\"dataframe\">\n",
       "  <thead>\n",
       "    <tr style=\"text-align: right;\">\n",
       "      <th></th>\n",
       "      <th>Date</th>\n",
       "      <th>SPX</th>\n",
       "      <th>GLD</th>\n",
       "      <th>USO</th>\n",
       "      <th>SLV</th>\n",
       "      <th>EUR/USD</th>\n",
       "    </tr>\n",
       "  </thead>\n",
       "  <tbody>\n",
       "    <tr>\n",
       "      <th>0</th>\n",
       "      <td>1/2/2008</td>\n",
       "      <td>1447.160034</td>\n",
       "      <td>84.860001</td>\n",
       "      <td>78.470001</td>\n",
       "      <td>15.180</td>\n",
       "      <td>1.471692</td>\n",
       "    </tr>\n",
       "    <tr>\n",
       "      <th>1</th>\n",
       "      <td>1/3/2008</td>\n",
       "      <td>1447.160034</td>\n",
       "      <td>85.570000</td>\n",
       "      <td>78.370003</td>\n",
       "      <td>15.285</td>\n",
       "      <td>1.474491</td>\n",
       "    </tr>\n",
       "    <tr>\n",
       "      <th>2</th>\n",
       "      <td>1/4/2008</td>\n",
       "      <td>1411.630005</td>\n",
       "      <td>85.129997</td>\n",
       "      <td>77.309998</td>\n",
       "      <td>15.167</td>\n",
       "      <td>1.475492</td>\n",
       "    </tr>\n",
       "    <tr>\n",
       "      <th>3</th>\n",
       "      <td>1/7/2008</td>\n",
       "      <td>1416.180054</td>\n",
       "      <td>84.769997</td>\n",
       "      <td>75.500000</td>\n",
       "      <td>15.053</td>\n",
       "      <td>1.468299</td>\n",
       "    </tr>\n",
       "    <tr>\n",
       "      <th>4</th>\n",
       "      <td>1/8/2008</td>\n",
       "      <td>1390.189941</td>\n",
       "      <td>86.779999</td>\n",
       "      <td>76.059998</td>\n",
       "      <td>15.590</td>\n",
       "      <td>1.557099</td>\n",
       "    </tr>\n",
       "  </tbody>\n",
       "</table>\n",
       "</div>"
      ],
      "text/plain": [
       "       Date          SPX        GLD        USO     SLV   EUR/USD\n",
       "0  1/2/2008  1447.160034  84.860001  78.470001  15.180  1.471692\n",
       "1  1/3/2008  1447.160034  85.570000  78.370003  15.285  1.474491\n",
       "2  1/4/2008  1411.630005  85.129997  77.309998  15.167  1.475492\n",
       "3  1/7/2008  1416.180054  84.769997  75.500000  15.053  1.468299\n",
       "4  1/8/2008  1390.189941  86.779999  76.059998  15.590  1.557099"
      ]
     },
     "execution_count": 86,
     "metadata": {},
     "output_type": "execute_result"
    }
   ],
   "source": [
    "df.head()"
   ]
  },
  {
   "cell_type": "code",
   "execution_count": 87,
   "id": "c2c80d84",
   "metadata": {},
   "outputs": [
    {
     "data": {
      "text/html": [
       "<div>\n",
       "<style scoped>\n",
       "    .dataframe tbody tr th:only-of-type {\n",
       "        vertical-align: middle;\n",
       "    }\n",
       "\n",
       "    .dataframe tbody tr th {\n",
       "        vertical-align: top;\n",
       "    }\n",
       "\n",
       "    .dataframe thead th {\n",
       "        text-align: right;\n",
       "    }\n",
       "</style>\n",
       "<table border=\"1\" class=\"dataframe\">\n",
       "  <thead>\n",
       "    <tr style=\"text-align: right;\">\n",
       "      <th></th>\n",
       "      <th>Date</th>\n",
       "      <th>SPX</th>\n",
       "      <th>GLD</th>\n",
       "      <th>USO</th>\n",
       "      <th>SLV</th>\n",
       "      <th>EUR/USD</th>\n",
       "    </tr>\n",
       "  </thead>\n",
       "  <tbody>\n",
       "    <tr>\n",
       "      <th>2285</th>\n",
       "      <td>5/8/2018</td>\n",
       "      <td>2671.919922</td>\n",
       "      <td>124.589996</td>\n",
       "      <td>14.0600</td>\n",
       "      <td>15.5100</td>\n",
       "      <td>1.186789</td>\n",
       "    </tr>\n",
       "    <tr>\n",
       "      <th>2286</th>\n",
       "      <td>5/9/2018</td>\n",
       "      <td>2697.790039</td>\n",
       "      <td>124.330002</td>\n",
       "      <td>14.3700</td>\n",
       "      <td>15.5300</td>\n",
       "      <td>1.184722</td>\n",
       "    </tr>\n",
       "    <tr>\n",
       "      <th>2287</th>\n",
       "      <td>5/10/2018</td>\n",
       "      <td>2723.070068</td>\n",
       "      <td>125.180000</td>\n",
       "      <td>14.4100</td>\n",
       "      <td>15.7400</td>\n",
       "      <td>1.191753</td>\n",
       "    </tr>\n",
       "    <tr>\n",
       "      <th>2288</th>\n",
       "      <td>5/14/2018</td>\n",
       "      <td>2730.129883</td>\n",
       "      <td>124.489998</td>\n",
       "      <td>14.3800</td>\n",
       "      <td>15.5600</td>\n",
       "      <td>1.193118</td>\n",
       "    </tr>\n",
       "    <tr>\n",
       "      <th>2289</th>\n",
       "      <td>5/16/2018</td>\n",
       "      <td>2725.780029</td>\n",
       "      <td>122.543800</td>\n",
       "      <td>14.4058</td>\n",
       "      <td>15.4542</td>\n",
       "      <td>1.182033</td>\n",
       "    </tr>\n",
       "  </tbody>\n",
       "</table>\n",
       "</div>"
      ],
      "text/plain": [
       "           Date          SPX         GLD      USO      SLV   EUR/USD\n",
       "2285   5/8/2018  2671.919922  124.589996  14.0600  15.5100  1.186789\n",
       "2286   5/9/2018  2697.790039  124.330002  14.3700  15.5300  1.184722\n",
       "2287  5/10/2018  2723.070068  125.180000  14.4100  15.7400  1.191753\n",
       "2288  5/14/2018  2730.129883  124.489998  14.3800  15.5600  1.193118\n",
       "2289  5/16/2018  2725.780029  122.543800  14.4058  15.4542  1.182033"
      ]
     },
     "execution_count": 87,
     "metadata": {},
     "output_type": "execute_result"
    }
   ],
   "source": [
    "df.tail()"
   ]
  },
  {
   "cell_type": "code",
   "execution_count": 88,
   "id": "aa34f7d8",
   "metadata": {},
   "outputs": [
    {
     "data": {
      "text/plain": [
       "(2290, 6)"
      ]
     },
     "execution_count": 88,
     "metadata": {},
     "output_type": "execute_result"
    }
   ],
   "source": [
    "df.shape"
   ]
  },
  {
   "cell_type": "code",
   "execution_count": 89,
   "id": "9c2536c3",
   "metadata": {},
   "outputs": [
    {
     "name": "stdout",
     "output_type": "stream",
     "text": [
      "<class 'pandas.core.frame.DataFrame'>\n",
      "RangeIndex: 2290 entries, 0 to 2289\n",
      "Data columns (total 6 columns):\n",
      " #   Column   Non-Null Count  Dtype  \n",
      "---  ------   --------------  -----  \n",
      " 0   Date     2290 non-null   object \n",
      " 1   SPX      2290 non-null   float64\n",
      " 2   GLD      2290 non-null   float64\n",
      " 3   USO      2290 non-null   float64\n",
      " 4   SLV      2290 non-null   float64\n",
      " 5   EUR/USD  2290 non-null   float64\n",
      "dtypes: float64(5), object(1)\n",
      "memory usage: 107.5+ KB\n"
     ]
    }
   ],
   "source": [
    "df.info()"
   ]
  },
  {
   "cell_type": "code",
   "execution_count": 90,
   "id": "3a8ef3c4",
   "metadata": {},
   "outputs": [
    {
     "data": {
      "text/plain": [
       "Date       0\n",
       "SPX        0\n",
       "GLD        0\n",
       "USO        0\n",
       "SLV        0\n",
       "EUR/USD    0\n",
       "dtype: int64"
      ]
     },
     "execution_count": 90,
     "metadata": {},
     "output_type": "execute_result"
    }
   ],
   "source": [
    "df.isnull().sum()"
   ]
  },
  {
   "cell_type": "code",
   "execution_count": 91,
   "id": "abfd9ca4",
   "metadata": {},
   "outputs": [
    {
     "data": {
      "text/html": [
       "<div>\n",
       "<style scoped>\n",
       "    .dataframe tbody tr th:only-of-type {\n",
       "        vertical-align: middle;\n",
       "    }\n",
       "\n",
       "    .dataframe tbody tr th {\n",
       "        vertical-align: top;\n",
       "    }\n",
       "\n",
       "    .dataframe thead th {\n",
       "        text-align: right;\n",
       "    }\n",
       "</style>\n",
       "<table border=\"1\" class=\"dataframe\">\n",
       "  <thead>\n",
       "    <tr style=\"text-align: right;\">\n",
       "      <th></th>\n",
       "      <th>SPX</th>\n",
       "      <th>GLD</th>\n",
       "      <th>USO</th>\n",
       "      <th>SLV</th>\n",
       "      <th>EUR/USD</th>\n",
       "    </tr>\n",
       "  </thead>\n",
       "  <tbody>\n",
       "    <tr>\n",
       "      <th>count</th>\n",
       "      <td>2290.000000</td>\n",
       "      <td>2290.000000</td>\n",
       "      <td>2290.000000</td>\n",
       "      <td>2290.000000</td>\n",
       "      <td>2290.000000</td>\n",
       "    </tr>\n",
       "    <tr>\n",
       "      <th>mean</th>\n",
       "      <td>1654.315776</td>\n",
       "      <td>122.732875</td>\n",
       "      <td>31.842221</td>\n",
       "      <td>20.084997</td>\n",
       "      <td>1.283653</td>\n",
       "    </tr>\n",
       "    <tr>\n",
       "      <th>std</th>\n",
       "      <td>519.111540</td>\n",
       "      <td>23.283346</td>\n",
       "      <td>19.523517</td>\n",
       "      <td>7.092566</td>\n",
       "      <td>0.131547</td>\n",
       "    </tr>\n",
       "    <tr>\n",
       "      <th>min</th>\n",
       "      <td>676.530029</td>\n",
       "      <td>70.000000</td>\n",
       "      <td>7.960000</td>\n",
       "      <td>8.850000</td>\n",
       "      <td>1.039047</td>\n",
       "    </tr>\n",
       "    <tr>\n",
       "      <th>25%</th>\n",
       "      <td>1239.874969</td>\n",
       "      <td>109.725000</td>\n",
       "      <td>14.380000</td>\n",
       "      <td>15.570000</td>\n",
       "      <td>1.171313</td>\n",
       "    </tr>\n",
       "    <tr>\n",
       "      <th>50%</th>\n",
       "      <td>1551.434998</td>\n",
       "      <td>120.580002</td>\n",
       "      <td>33.869999</td>\n",
       "      <td>17.268500</td>\n",
       "      <td>1.303297</td>\n",
       "    </tr>\n",
       "    <tr>\n",
       "      <th>75%</th>\n",
       "      <td>2073.010070</td>\n",
       "      <td>132.840004</td>\n",
       "      <td>37.827501</td>\n",
       "      <td>22.882500</td>\n",
       "      <td>1.369971</td>\n",
       "    </tr>\n",
       "    <tr>\n",
       "      <th>max</th>\n",
       "      <td>2872.870117</td>\n",
       "      <td>184.589996</td>\n",
       "      <td>117.480003</td>\n",
       "      <td>47.259998</td>\n",
       "      <td>1.598798</td>\n",
       "    </tr>\n",
       "  </tbody>\n",
       "</table>\n",
       "</div>"
      ],
      "text/plain": [
       "               SPX          GLD          USO          SLV      EUR/USD\n",
       "count  2290.000000  2290.000000  2290.000000  2290.000000  2290.000000\n",
       "mean   1654.315776   122.732875    31.842221    20.084997     1.283653\n",
       "std     519.111540    23.283346    19.523517     7.092566     0.131547\n",
       "min     676.530029    70.000000     7.960000     8.850000     1.039047\n",
       "25%    1239.874969   109.725000    14.380000    15.570000     1.171313\n",
       "50%    1551.434998   120.580002    33.869999    17.268500     1.303297\n",
       "75%    2073.010070   132.840004    37.827501    22.882500     1.369971\n",
       "max    2872.870117   184.589996   117.480003    47.259998     1.598798"
      ]
     },
     "execution_count": 91,
     "metadata": {},
     "output_type": "execute_result"
    }
   ],
   "source": [
    "df.describe()"
   ]
  },
  {
   "cell_type": "markdown",
   "id": "e4552311",
   "metadata": {},
   "source": [
    "# Correlation of Different variables"
   ]
  },
  {
   "cell_type": "code",
   "execution_count": 92,
   "id": "58a26576",
   "metadata": {},
   "outputs": [],
   "source": [
    "correlation = df.corr()"
   ]
  },
  {
   "cell_type": "code",
   "execution_count": 93,
   "id": "87bdd480",
   "metadata": {},
   "outputs": [
    {
     "data": {
      "image/png": "[encoded data removed]",
      "text/plain": [
       "<Figure size 576x576 with 2 Axes>"
      ]
     },
     "metadata": {
      "needs_background": "light"
     },
     "output_type": "display_data"
    }
   ],
   "source": [
    "plt.figure(figsize=(8,8))\n",
    "sns.heatmap(correlation, cbar=True, square=True, fmt='.1f',\n",
    "            \n",
    "    annot=True, annot_kws={'size':8}, cmap='Greens')\n",
    "plt.show()"
   ]
  },
  {
   "cell_type": "code",
   "execution_count": 94,
   "id": "b12a73ea",
   "metadata": {},
   "outputs": [
    {
     "name": "stdout",
     "output_type": "stream",
     "text": [
      "SPX        0.049345\n",
      "GLD        1.000000\n",
      "USO       -0.186360\n",
      "SLV        0.866632\n",
      "EUR/USD   -0.024375\n",
      "Name: GLD, dtype: float64\n"
     ]
    }
   ],
   "source": [
    "print(correlation['GLD'])"
   ]
  },
  {
   "cell_type": "markdown",
   "id": "682c00a8",
   "metadata": {},
   "source": [
    "# Show gold prices"
   ]
  },
  {
   "cell_type": "code",
   "execution_count": 95,
   "id": "bddbbb2f",
   "metadata": {},
   "outputs": [
    {
     "name": "stderr",
     "output_type": "stream",
     "text": [
      "C:\\Users\\muxair\\anaconda3\\lib\\site-packages\\seaborn\\distributions.py:2619: FutureWarning: `distplot` is a deprecated function and will be removed in a future version. Please adapt your code to use either `displot` (a figure-level function with similar flexibility) or `histplot` (an axes-level function for histograms).\n",
      "  warnings.warn(msg, FutureWarning)\n"
     ]
    },
    {
     "data": {
      "image/png": "[encoded data removed]",
      "text/plain": [
       "<Figure size 432x288 with 1 Axes>"
      ]
     },
     "metadata": {
      "needs_background": "light"
     },
     "output_type": "display_data"
    }
   ],
   "source": [
    "sns.distplot(df['GLD'], color='green')\n",
    "plt.show();"
   ]
  },
  {
   "cell_type": "markdown",
   "id": "0eb5d675",
   "metadata": {},
   "source": [
    "# Seperate independent and dependent features"
   ]
  },
  {
   "cell_type": "code",
   "execution_count": 97,
   "id": "9e4a8222",
   "metadata": {},
   "outputs": [],
   "source": [
    "X = df.drop(['Date', 'GLD'],axis=1)\n",
    "Y = df['GLD']"
   ]
  },
  {
   "cell_type": "code",
   "execution_count": 59,
   "id": "ec1c462e",
   "metadata": {},
   "outputs": [],
   "source": [
    "# cols = ['SPX','USO', 'SLV', 'EUR/USD']"
   ]
  },
  {
   "cell_type": "code",
   "execution_count": 62,
   "id": "b50bcf03",
   "metadata": {},
   "outputs": [],
   "source": [
    "# from sklearn.preprocessing import MinMaxScaler\n",
    "# mm = MinMaxScaler()\n",
    "# X = mm.fit_transform(X)\n",
    "# X = pd.DataFrame(df_mm, columns=cols)"
   ]
  },
  {
   "cell_type": "code",
   "execution_count": 98,
   "id": "c44c6b41",
   "metadata": {},
   "outputs": [
    {
     "name": "stdout",
     "output_type": "stream",
     "text": [
      "              SPX        USO      SLV   EUR/USD\n",
      "0     1447.160034  78.470001  15.1800  1.471692\n",
      "1     1447.160034  78.370003  15.2850  1.474491\n",
      "2     1411.630005  77.309998  15.1670  1.475492\n",
      "3     1416.180054  75.500000  15.0530  1.468299\n",
      "4     1390.189941  76.059998  15.5900  1.557099\n",
      "...           ...        ...      ...       ...\n",
      "2285  2671.919922  14.060000  15.5100  1.186789\n",
      "2286  2697.790039  14.370000  15.5300  1.184722\n",
      "2287  2723.070068  14.410000  15.7400  1.191753\n",
      "2288  2730.129883  14.380000  15.5600  1.193118\n",
      "2289  2725.780029  14.405800  15.4542  1.182033\n",
      "\n",
      "[2290 rows x 4 columns]\n"
     ]
    }
   ],
   "source": [
    "print(X)"
   ]
  },
  {
   "cell_type": "code",
   "execution_count": 99,
   "id": "a4d7a120",
   "metadata": {},
   "outputs": [
    {
     "name": "stdout",
     "output_type": "stream",
     "text": [
      "0        84.860001\n",
      "1        85.570000\n",
      "2        85.129997\n",
      "3        84.769997\n",
      "4        86.779999\n",
      "           ...    \n",
      "2285    124.589996\n",
      "2286    124.330002\n",
      "2287    125.180000\n",
      "2288    124.489998\n",
      "2289    122.543800\n",
      "Name: GLD, Length: 2290, dtype: float64\n"
     ]
    }
   ],
   "source": [
    "print(Y)"
   ]
  },
  {
   "cell_type": "markdown",
   "id": "459ee1ac",
   "metadata": {},
   "source": [
    "# Splitting Training and Testing data"
   ]
  },
  {
   "cell_type": "code",
   "execution_count": 101,
   "id": "3761659e",
   "metadata": {},
   "outputs": [],
   "source": [
    "X_train,X_test,Y_train, Y_test = train_test_split(X,Y,test_size=0.2, random_state=2)"
   ]
  },
  {
   "cell_type": "markdown",
   "id": "a2e8b99f",
   "metadata": {},
   "source": [
    "# Training Models"
   ]
  },
  {
   "cell_type": "code",
   "execution_count": 102,
   "id": "e8d834b3",
   "metadata": {},
   "outputs": [],
   "source": [
    "RF_model = RandomForestRegressor(n_estimators=100, max_depth=10)"
   ]
  },
  {
   "cell_type": "code",
   "execution_count": 103,
   "id": "774fb7df",
   "metadata": {},
   "outputs": [
    {
     "data": {
      "text/plain": [
       "RandomForestRegressor(max_depth=10)"
      ]
     },
     "execution_count": 103,
     "metadata": {},
     "output_type": "execute_result"
    }
   ],
   "source": [
    "RF_model.fit(X_train,Y_train)"
   ]
  },
  {
   "cell_type": "code",
   "execution_count": 104,
   "id": "5a82a090",
   "metadata": {},
   "outputs": [
    {
     "name": "stdout",
     "output_type": "stream",
     "text": [
      "R Square Error on training data  :  0.9979575689018323\n"
     ]
    }
   ],
   "source": [
    "X_train_pred = RF_model.predict(X_train)\n",
    "X_train_acc = metrics.r2_score(Y_train, X_train_pred)\n",
    "print('R Square Error on training data  : ',X_train_acc)"
   ]
  },
  {
   "cell_type": "code",
   "execution_count": 105,
   "id": "52e1c360",
   "metadata": {},
   "outputs": [
    {
     "name": "stdout",
     "output_type": "stream",
     "text": [
      "R squared Error on testing data :  0.9893482182932142\n"
     ]
    }
   ],
   "source": [
    "X_test_pred = RF_model.predict(X_test)\n",
    "X_test_acc = metrics.r2_score(Y_test, X_test_pred)\n",
    "print(\"R squared Error on testing data : \",X_test_acc)"
   ]
  },
  {
   "cell_type": "code",
   "execution_count": 106,
   "id": "9e0b4994",
   "metadata": {},
   "outputs": [],
   "source": [
    "Y_test = list(Y_test)"
   ]
  },
  {
   "cell_type": "code",
   "execution_count": 107,
   "id": "91c6c195",
   "metadata": {},
   "outputs": [
    {
     "data": {
      "image/png": "[encoded data removed]",
      "text/plain": [
       "<Figure size 432x288 with 1 Axes>"
      ]
     },
     "metadata": {
      "needs_background": "light"
     },
     "output_type": "display_data"
    }
   ],
   "source": [
    "plt.plot(Y_test, color='blue', label='Actual Value')\n",
    "plt.plot(X_test_pred, color='red', label='Predicted Value')\n",
    "plt.title('Acual Price vs Predicted Price')\n",
    "plt.xlabel('Number of values')\n",
    "plt.ylabel('GLD Price')\n",
    "plt.legend()\n",
    "plt.show()"
   ]
  },
  {
   "cell_type": "markdown",
   "id": "63a11615",
   "metadata": {},
   "source": [
    "# Test Model "
   ]
  },
  {
   "cell_type": "code",
   "execution_count": 122,
   "id": "c0b6fe8a",
   "metadata": {},
   "outputs": [
    {
     "name": "stdout",
     "output_type": "stream",
     "text": [
      "Price is  :  [85.31116176]\n"
     ]
    },
    {
     "name": "stderr",
     "output_type": "stream",
     "text": [
      "C:\\Users\\muxair\\anaconda3\\lib\\site-packages\\sklearn\\base.py:450: UserWarning: X does not have valid feature names, but RandomForestRegressor was fitted with feature names\n",
      "  warnings.warn(\n"
     ]
    }
   ],
   "source": [
    "# test = np.array([[1447.160034,  78.470001,  15.1800,  1.471692]])\n",
    "# test = np.array([[1447.160034, 78.470001, 15.180, 1.471692]])\n",
    "# test = np.array([[1447.160034,  78.470001,  15.1800,  1.471692]])\n",
    "test = np.array([[1447.160034,  78.370003,  15.2850,  1.474491]])\n",
    "\n",
    "X_test_pred = RF_model.predict(test)\n",
    "print(\"Price is  : \",X_test_pred)"
   ]
  },
  {
   "cell_type": "markdown",
   "id": "3e6aa9c5",
   "metadata": {},
   "source": [
    "# Train Linear Model"
   ]
  },
  {
   "cell_type": "code",
   "execution_count": 123,
   "id": "5a5e4e74",
   "metadata": {},
   "outputs": [],
   "source": [
    "from sklearn.linear_model import LinearRegression"
   ]
  },
  {
   "cell_type": "code",
   "execution_count": 124,
   "id": "cb7b7e34",
   "metadata": {},
   "outputs": [],
   "source": [
    "lr_model = LinearRegression()"
   ]
  },
  {
   "cell_type": "code",
   "execution_count": 125,
   "id": "1e952145",
   "metadata": {},
   "outputs": [
    {
     "data": {
      "text/plain": [
       "LinearRegression()"
      ]
     },
     "execution_count": 125,
     "metadata": {},
     "output_type": "execute_result"
    }
   ],
   "source": [
    "lr_model.fit(X_train, Y_train)"
   ]
  },
  {
   "cell_type": "code",
   "execution_count": 127,
   "id": "9260e5a8",
   "metadata": {},
   "outputs": [
    {
     "name": "stdout",
     "output_type": "stream",
     "text": [
      "RSE of training data :  0.8850695972446934\n"
     ]
    }
   ],
   "source": [
    "lr_X_train_pred = lr_model.predict(X_train)\n",
    "lr_X_RSE = metrics.r2_score(Y_train, lr_X_train_pred)\n",
    "print(\"RSE of training data : \", lr_X_RSE)"
   ]
  },
  {
   "cell_type": "code",
   "execution_count": 137,
   "id": "8a41f0e2",
   "metadata": {},
   "outputs": [
    {
     "name": "stdout",
     "output_type": "stream",
     "text": [
      "RSE of training data :  0.8657886565869237\n"
     ]
    }
   ],
   "source": [
    "lr_X_test_pred = lr_model.predict(X_test)\n",
    "\n",
    "lr_X_RSE = metrics.r2_score(Y_test, lr_X_test_pred)\n",
    "print(\"RSE of training data : \", lr_X_RSE)"
   ]
  },
  {
   "cell_type": "markdown",
   "id": "c21f17d4",
   "metadata": {},
   "source": [
    "# Test Linear Model"
   ]
  },
  {
   "cell_type": "code",
   "execution_count": 138,
   "id": "e138c1d8",
   "metadata": {},
   "outputs": [
    {
     "name": "stdout",
     "output_type": "stream",
     "text": [
      "Price is  :  [92.50844827]\n"
     ]
    },
    {
     "name": "stderr",
     "output_type": "stream",
     "text": [
      "C:\\Users\\muxair\\anaconda3\\lib\\site-packages\\sklearn\\base.py:450: UserWarning: X does not have valid feature names, but LinearRegression was fitted with feature names\n",
      "  warnings.warn(\n"
     ]
    }
   ],
   "source": [
    "# test = np.array([[1447.160034,  78.470001,  15.1800,  1.471692]])\n",
    "# test = np.array([[1447.160034, 78.470001, 15.180, 1.471692]])\n",
    "# test = np.array([[1447.160034,  78.470001,  15.1800,  1.471692]])\n",
    "test = np.array([[1447.160034,  78.370003,  15.2850,  1.474491]])\n",
    "\n",
    "lr_test_pred = lr_model.predict(test)\n",
    "print(\"Price is  : \",lr_test_pred)"
   ]
  },
  {
   "cell_type": "code",
   "execution_count": 139,
   "id": "e3d0da26",
   "metadata": {},
   "outputs": [
    {
     "name": "stdout",
     "output_type": "stream",
     "text": [
      "[159.45290968  81.50858067 113.4868037  128.55153817 126.20403783\n",
      " 141.31818338 165.49416492 124.44197659 113.95389904 122.9965895\n",
      " 113.95492464 174.89529849 132.66890174 159.24793304 118.8791679\n",
      " 122.14315717 150.37153054 161.27175405 152.2792036  162.19946709\n",
      " 145.88372183 118.07669395 180.21729122 178.13331554 123.51701986\n",
      "  98.82914322  76.63486248 119.38435511 113.85027665 159.25706609\n",
      "  93.76037617 120.05334649  88.61086583 114.28801659 112.77954274\n",
      " 144.19518102 118.78252489 115.87334354 144.06409553 113.81864246\n",
      " 100.49676727  89.42842238 120.36720699 110.47635305 146.4894628\n",
      " 119.30321261 110.99311348 111.3386287   96.48139076 123.40842816\n",
      "  79.51413425 115.36111603 121.78896764 114.55367722 120.9074622\n",
      " 117.10612464 152.31198525 182.7735091  196.73570503  91.06670951\n",
      " 101.92097594  87.48443506  94.33158785 119.17357764 121.8935122\n",
      " 125.85678089 163.2699701  122.91100556 113.55098736 104.06905043\n",
      " 155.16775229 176.87972077 125.62460858 113.85896766 119.69577146\n",
      " 120.03159609 117.85194226 118.35897733 113.72954121 129.97412373\n",
      " 121.74279861 104.64163725 117.17374823 126.31757797  94.63054496\n",
      "  88.6429881  173.79414659 123.3889615  121.11367109 106.85139516\n",
      " 102.43120839  75.64721451 160.63204133 116.53485791 123.43284852\n",
      " 128.90964962 141.9754171   94.90681665 140.59107397 150.88254462\n",
      " 120.61400122 126.18758167 126.15751557 117.79050312 120.23630249\n",
      "  96.07847005 108.46289277 160.74032164 149.25506194 116.90461024\n",
      " 101.89683477  78.55100685 113.55252108 121.86482779 111.50766509\n",
      " 119.97033408 144.93538115 150.48099293 120.46444466 148.63103233\n",
      " 102.36169588 113.04232004 116.67313346 114.17074491 111.72097362\n",
      " 149.60529086 103.27069375 162.8243783  127.26240013 159.3553434\n",
      " 122.69414947 123.01751489 121.65730575 114.16407868 119.73006341\n",
      " 121.6690294  110.41148326  93.51351227 120.88718035 105.29371566\n",
      " 105.74311748 121.82956746 123.37061551 104.36058862 124.41163091\n",
      " 157.15019835  90.2875932  111.75426942 116.24341673 129.71742482\n",
      " 122.66204747  86.86560029 125.58104783 149.1558729   93.20088142\n",
      " 113.41951717 114.76473252 174.20857764 111.54818695 112.26438102\n",
      " 124.60042052 149.13827841  92.28668121  96.62221445 120.33971987\n",
      " 181.05999744 122.20840259 116.75008011  99.19024942 119.31093226\n",
      " 153.69884139 117.41344481 116.04572722  88.49265654 201.18121904\n",
      " 112.70327442  95.90817139 110.27893385 110.79239714 124.15722345\n",
      "  91.40940976  99.25381492 118.22481586 111.46207587 120.21558021\n",
      " 123.73713755 116.59830111 149.21680142 157.42793857 121.43291003\n",
      " 118.67130713 145.28995075 111.46213774 173.82514998 106.34128071\n",
      " 112.64167754 202.03133513 121.34066544 123.19875899 162.56606178\n",
      " 111.96236108 116.9192883  110.19610625 111.5230842  143.44486659\n",
      " 113.74396159 111.96962888 116.62448493 100.72432155 105.04545753\n",
      " 119.94849788  96.83170431  95.42249477 143.72420099 111.70859517\n",
      " 145.44386748 112.09462627 159.67384334  90.69074117 113.87973255\n",
      " 117.10614529 120.83182786 116.0398794  156.17508598 100.41143402\n",
      " 138.51120883 122.80981088 121.73144105 111.22063915 145.12280834\n",
      " 119.62835114 118.93736976 121.12559311 123.49477293 119.45384482\n",
      " 121.68552767 122.79803947  89.85590671 127.5285141  143.49374375\n",
      "  89.13511679 163.81560356 150.56348474 125.36238887 157.29133434\n",
      " 118.5962307  114.76924715 110.41074389  99.27940825 129.19134616\n",
      " 104.91019759 164.50553141 124.27951869 127.94576049 126.33265293\n",
      " 152.92260953  91.02635368 180.12688271 121.33206179 123.3805987\n",
      "  92.93820488 118.91049021 167.74751536  95.97626635 112.07153519\n",
      " 105.48610035  82.39309463 129.36811507 147.6260147  145.12559953\n",
      "  81.06850359 145.72494054 125.0873386  123.29241873 121.55626896\n",
      " 106.21901712 144.37736667 117.65217212 123.67398912 119.81906032\n",
      " 146.09219012 121.31201565 143.70780585  96.75332067 121.04949103\n",
      " 118.85801666  95.85724353  95.7005734  122.83735573 120.23931521\n",
      " 114.752374   111.3848162  122.11769927 123.70751131 118.59965555\n",
      " 144.90842651  99.26420076 122.09583773 109.34073179  97.6923005\n",
      " 103.82858753  82.17668901 108.48564656  94.58386165  99.36237847\n",
      " 127.92063336 154.53006174  94.83214737 120.56119213 125.27193692\n",
      " 123.741244   123.153979   110.65471319  93.77130654 144.04886361\n",
      " 118.70953745 111.64287284 159.07092617 116.22058371  89.59449933\n",
      " 125.3954476   93.77796895 155.10683142 119.70840177 120.89033884\n",
      " 150.21060248 112.07266487 112.17031901 103.40785949 121.88973962\n",
      "  79.39417285 111.32332444 129.57981579 121.20050645  97.51862149\n",
      " 138.03369157 117.14618729 120.79220009 147.4118315  149.15097787\n",
      " 115.34630618 156.03123936 125.80296997 150.0364708  125.49592695\n",
      " 152.08236215 113.66641537 120.94533895 160.95425308 116.80893399\n",
      " 125.33117629 157.17971833 120.4838592  125.66320966 147.16276169\n",
      " 141.23191504 127.86839214 116.49844827 113.86003172 125.56616732\n",
      "  93.7151239  119.91858182 143.5779658  110.49294691 111.56151552\n",
      " 153.32389533 117.5161175  159.14273208 130.61792167 120.47996196\n",
      " 140.69432122 162.0360364  113.23249654 115.78985464 153.13016467\n",
      "  87.59723109 120.75954152 129.37236482 125.08256637 124.47800179\n",
      " 122.52210381  94.36181387 142.56208797 104.65794024 145.68266189\n",
      "  93.1734386  104.70960227 116.54046577 120.5260613  120.44862385\n",
      "  94.68963425 120.59695494 154.15009906 117.18925871 156.49657478\n",
      " 123.86401547 110.41664959 124.85086427 100.6794172   94.36971456\n",
      " 105.71510695 122.36927215  79.9786057  126.70980467 152.88190713\n",
      " 114.88722911 114.97966394 119.08904866 116.79453493 122.84487067\n",
      " 120.91030351 120.88673239 105.0696433  191.90883411 122.59664436\n",
      " 116.62755088  77.84989594 124.65745662 143.2709885  120.37043229\n",
      " 121.03655506  94.50745135 111.36682253 119.75471172 112.48632277\n",
      "  79.13563026 142.62965128 121.89588529 113.07538385  88.3918062\n",
      " 114.03342237 163.40511021 125.20580519 152.11443433 113.25319918\n",
      " 118.62431992 117.28641957 104.68078767 118.41921617 126.05035311\n",
      " 120.41292474 100.69533386 143.8328044  121.01265419 160.52275467\n",
      " 149.57414181 108.42224119 120.97109044 158.885207   118.21457812\n",
      " 158.11607219 143.83779103 120.47800019 159.86639242 111.24045013\n",
      " 126.4542079  144.93505484 106.94838427]\n"
     ]
    }
   ],
   "source": [
    "print(lr_X_test_pred)"
   ]
  },
  {
   "cell_type": "markdown",
   "id": "17a15d8c",
   "metadata": {},
   "source": [
    "# Plot Actual and Predicted value "
   ]
  },
  {
   "cell_type": "code",
   "execution_count": 140,
   "id": "034a2926",
   "metadata": {},
   "outputs": [
    {
     "data": {
      "image/png": "[encoded data removed]",
      "text/plain": [
       "<Figure size 432x288 with 1 Axes>"
      ]
     },
     "metadata": {
      "needs_background": "light"
     },
     "output_type": "display_data"
    }
   ],
   "source": [
    "plt.plot(Y_test, color='blue', label='Actual Value')\n",
    "plt.plot(lr_X_test_pred, color='red', label='Predicted Value')\n",
    "plt.title('Acual Price vs Predicted Price')\n",
    "plt.xlabel('Number of values')\n",
    "plt.ylabel('GLD Price')\n",
    "plt.legend()\n",
    "plt.show()"
   ]
  }
 ],
 "metadata": {
  "kernelspec": {
   "display_name": "Python 3 (ipykernel)",
   "language": "python",
   "name": "python3"
  },
  "language_info": {
   "codemirror_mode": {
    "name": "ipython",
    "version": 3
   },
   "file_extension": ".py",
   "mimetype": "text/x-python",
   "name": "python",
   "nbconvert_exporter": "python",
   "pygments_lexer": "ipython3",
   "version": "3.9.12"
  }
 },
 "nbformat": 4,
 "nbformat_minor": 5
}
